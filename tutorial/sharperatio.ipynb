{
 "cells": [
  {
   "cell_type": "markdown",
   "metadata": {
    "id": "Ycj540MesA0O"
   },
   "source": [
    "# sharpe ratio generator \n",
    "\n",
    "![sharpe ratio](https://a.c-dn.net/c/content/dam/publicsites/igcom/uk/images/ContentImage/Sharpe%20ratio.png)\n",
    "\n",
    "\n",
    "### this documentation purposes to explain how main algorithms works, by showing line by line coding. "
   ]
  },
  {
   "cell_type": "code",
   "execution_count": 1,
   "metadata": {
    "id": "1-8PXQdReKxH"
   },
   "outputs": [],
   "source": [
    "#import library what we need\n",
    "import numpy as np \n",
    "import pandas as pd"
   ]
  },
  {
   "cell_type": "code",
   "execution_count": null,
   "metadata": {
    "id": "moyacVeGeOXD"
   },
   "outputs": [],
   "source": [
    "df=pd.read_csv('endpricesnp.csv')"
   ]
  },
  {
   "cell_type": "markdown",
   "metadata": {
    "id": "gMPSwesKsVXB"
   },
   "source": [
    "## 1. Our dataset shows weekly return of S&P 500 and its sectors. "
   ]
  },
  {
   "cell_type": "code",
   "execution_count": null,
   "metadata": {
    "colab": {
     "base_uri": "https://localhost:8080/"
    },
    "id": "li9cAJk4eZ5J",
    "outputId": "8f2b8431-2a94-4dce-f211-b35c1098576a"
   },
   "outputs": [
    {
     "data": {
      "text/plain": [
       "['S&P 500 Healthcare',\n",
       " 'S&P 500 IT Services',\n",
       " 'S&P 500 Telecommunication services',\n",
       " 'S&P 500 Financial ',\n",
       " 'S&P 500 Consumer Discretionary',\n",
       " 'S&P 500 Consumer Staples',\n",
       " 'S&P 500 Energy',\n",
       " 'S&P 500 Utilities',\n",
       " 'S&P 500 Industrials',\n",
       " 'S&P 500 Materials',\n",
       " 'S&P 500 Real Estate',\n",
       " 'S&P 500']"
      ]
     },
     "execution_count": 9,
     "metadata": {},
     "output_type": "execute_result"
    }
   ],
   "source": [
    "df.columns.tolist()[1:]"
   ]
  },
  {
   "cell_type": "markdown",
   "metadata": {
    "id": "CWV5aKfys15g"
   },
   "source": [
    "### we have to calculate the adjusted return for each week in dataset, so create a function which calculate the weekly difference of a return."
   ]
  },
  {
   "cell_type": "code",
   "execution_count": null,
   "metadata": {
    "id": "pKWVPm66edzm"
   },
   "outputs": [],
   "source": [
    "def cal(li):\n",
    "    tmp_li=list()\n",
    "    for i in range(len(li)-52,len(li)-1): #len(li)-1\n",
    "        x=(li[i+1]/li[i])-1    \n",
    "        tmp_li.append(x)\n",
    "    return(tmp_li)"
   ]
  },
  {
   "cell_type": "code",
   "execution_count": null,
   "metadata": {
    "id": "HssNAVZee7Ul"
   },
   "outputs": [],
   "source": [
    "mat=list()\n",
    "for field in df.columns.tolist()[1:]:\n",
    "    mat.append(cal(df[field])) \n",
    "mat=np.array(mat)"
   ]
  },
  {
   "cell_type": "markdown",
   "metadata": {
    "id": "zKwIm_zNtGmf"
   },
   "source": [
    "### 2. Sharpe-ratio is based on the variance-covariance matrix of each financial items, so we derived the matrix "
   ]
  },
  {
   "cell_type": "code",
   "execution_count": null,
   "metadata": {
    "id": "kmgYzgj-e92T"
   },
   "outputs": [],
   "source": [
    "cov_mat=np.cov(mat)"
   ]
  },
  {
   "cell_type": "code",
   "execution_count": null,
   "metadata": {
    "id": "37UBL9x4gY7p"
   },
   "outputs": [],
   "source": [
    "cov_mat.shape\n",
    "np.fill_diagonal(cov_mat,1)"
   ]
  },
  {
   "cell_type": "code",
   "execution_count": null,
   "metadata": {
    "colab": {
     "base_uri": "https://localhost:8080/"
    },
    "id": "45N1jWMhhA4b",
    "outputId": "0efaecb4-c0ab-4049-cee9-148698278cb6"
   },
   "outputs": [
    {
     "data": {
      "text/plain": [
       "(12, 12)"
      ]
     },
     "execution_count": 77,
     "metadata": {},
     "output_type": "execute_result"
    }
   ],
   "source": [
    "cov_mat.shape"
   ]
  },
  {
   "cell_type": "markdown",
   "metadata": {
    "id": "7pgItxtnthnX"
   },
   "source": [
    "### 3. The next step is calculting expected return based on the annual return data. \n",
    "### In this procedure we need weight vector for each sector"
   ]
  },
  {
   "cell_type": "code",
   "execution_count": null,
   "metadata": {
    "id": "3j_ZtGOHhDng"
   },
   "outputs": [],
   "source": [
    "expected_return=list()\n",
    "for i in range(mat.shape[0]):\n",
    "    expected_return.append(mat[i].mean())\n",
    "exp_return=np.array(expected_return)"
   ]
  },
  {
   "cell_type": "code",
   "execution_count": null,
   "metadata": {
    "colab": {
     "base_uri": "https://localhost:8080/"
    },
    "id": "Q67nskM7lllm",
    "outputId": "39651769-bfa0-4508-ff02-978db70c322b"
   },
   "outputs": [
    {
     "data": {
      "text/plain": [
       "(12,)"
      ]
     },
     "execution_count": 72,
     "metadata": {},
     "output_type": "execute_result"
    }
   ],
   "source": [
    "exp_return.shape"
   ]
  },
  {
   "cell_type": "code",
   "execution_count": null,
   "metadata": {
    "id": "r_04rZ0Nlsdy"
   },
   "outputs": [],
   "source": [
    "# for this tutorial, we set the weight equally\n",
    "weight=np.full((12,),1/12)"
   ]
  },
  {
   "cell_type": "code",
   "execution_count": null,
   "metadata": {
    "colab": {
     "base_uri": "https://localhost:8080/"
    },
    "id": "zVsvNpKVnVRn",
    "outputId": "7573deb0-5ac8-4285-93f1-0fd2ea41c106"
   },
   "outputs": [
    {
     "data": {
      "text/plain": [
       "0.004291824604308733"
      ]
     },
     "execution_count": 88,
     "metadata": {},
     "output_type": "execute_result"
    }
   ],
   "source": [
    "expected_return_value=np.dot(exp_return,weight)\n",
    "expected_return_value"
   ]
  },
  {
   "cell_type": "markdown",
   "metadata": {
    "id": "rXf8GUjzuCgE"
   },
   "source": [
    "### 4. Calculate Sharperatio based on the expected return and var-covar-matirx. "
   ]
  },
  {
   "cell_type": "code",
   "execution_count": null,
   "metadata": {
    "id": "PEpgQw3ioBEV"
   },
   "outputs": [],
   "source": [
    "std= np.matmul(np.matmul(weight,cov_mat),weight)"
   ]
  },
  {
   "cell_type": "code",
   "execution_count": null,
   "metadata": {
    "id": "rcS5s6b4oala"
   },
   "outputs": [],
   "source": [
    "#we set riskfree rate as 0.000005 randomly\n",
    "riskfree=0.00005\n",
    "sharperatio = expected_return_value-riskfree/std"
   ]
  },
  {
   "cell_type": "code",
   "execution_count": null,
   "metadata": {
    "colab": {
     "base_uri": "https://localhost:8080/"
    },
    "id": "hwjGw6kzrKIK",
    "outputId": "f2f96b02-2786-45aa-ebe2-aef0227960a2"
   },
   "outputs": [
    {
     "data": {
      "text/plain": [
       "0.0038761242925207293"
      ]
     },
     "execution_count": 90,
     "metadata": {},
     "output_type": "execute_result"
    }
   ],
   "source": [
    "sharperatio"
   ]
  }
 ],
 "metadata": {
  "colab": {
   "provenance": []
  },
  "kernelspec": {
   "display_name": "Python 3 (ipykernel)",
   "language": "python",
   "name": "python3"
  },
  "language_info": {
   "codemirror_mode": {
    "name": "ipython",
    "version": 3
   },
   "file_extension": ".py",
   "mimetype": "text/x-python",
   "name": "python",
   "nbconvert_exporter": "python",
   "pygments_lexer": "ipython3",
   "version": "3.7.13"
  }
 },
 "nbformat": 4,
 "nbformat_minor": 4
}
