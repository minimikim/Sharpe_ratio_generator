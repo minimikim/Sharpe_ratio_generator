{
  "nbformat": 4,
  "nbformat_minor": 0,
  "metadata": {
    "colab": {
      "provenance": []
    },
    "kernelspec": {
      "name": "python3",
      "display_name": "Python 3"
    },
    "language_info": {
      "name": "python"
    }
  },
  "cells": [
    {
      "cell_type": "markdown",
      "source": [
        "# sharpe ratio generator \n",
        "\n",
        "![sharpe ratio](https://a.c-dn.net/c/content/dam/publicsites/igcom/uk/images/ContentImage/Sharpe%20ratio.png)\n",
        "\n",
        "\n",
        "### this documentation purposes to explain how main algorithms works, by showing line by line coding. "
      ],
      "metadata": {
        "id": "Ycj540MesA0O"
      }
    },
    {
      "cell_type": "code",
      "execution_count": 1,
      "metadata": {
        "id": "1-8PXQdReKxH"
      },
      "outputs": [],
      "source": [
        "#import library what we need\n",
        "import numpy as np \n",
        "import pandas as pd"
      ]
    },
    {
      "cell_type": "code",
      "source": [
        "df=pd.read_csv('endpricesnp.csv')"
      ],
      "metadata": {
        "id": "moyacVeGeOXD"
      },
      "execution_count": null,
      "outputs": []
    },
    {
      "cell_type": "markdown",
      "source": [
        "## 1. Our dataset shows weekly return of S&P 500 and its sectors. "
      ],
      "metadata": {
        "id": "gMPSwesKsVXB"
      }
    },
    {
      "cell_type": "code",
      "source": [
        "df.columns.tolist()[1:]"
      ],
      "metadata": {
        "colab": {
          "base_uri": "https://localhost:8080/"
        },
        "id": "li9cAJk4eZ5J",
        "outputId": "8f2b8431-2a94-4dce-f211-b35c1098576a"
      },
      "execution_count": null,
      "outputs": [
        {
          "output_type": "execute_result",
          "data": {
            "text/plain": [
              "['S&P 500 Healthcare',\n",
              " 'S&P 500 IT Services',\n",
              " 'S&P 500 Telecommunication services',\n",
              " 'S&P 500 Financial ',\n",
              " 'S&P 500 Consumer Discretionary',\n",
              " 'S&P 500 Consumer Staples',\n",
              " 'S&P 500 Energy',\n",
              " 'S&P 500 Utilities',\n",
              " 'S&P 500 Industrials',\n",
              " 'S&P 500 Materials',\n",
              " 'S&P 500 Real Estate',\n",
              " 'S&P 500']"
            ]
          },
          "metadata": {},
          "execution_count": 9
        }
      ]
    },
    {
      "cell_type": "markdown",
      "source": [
        "### we have to calculate the adjusted return for each week in dataset, so create a function which calculate the weekly difference of a return."
      ],
      "metadata": {
        "id": "CWV5aKfys15g"
      }
    },
    {
      "cell_type": "code",
      "source": [
        "def cal(li):\n",
        "    tmp_li=list()\n",
        "    for i in range(len(li)-52,len(li)-1): #len(li)-1\n",
        "        x=(li[i+1]/li[i])-1    \n",
        "        tmp_li.append(x)\n",
        "    return(tmp_li)"
      ],
      "metadata": {
        "id": "pKWVPm66edzm"
      },
      "execution_count": null,
      "outputs": []
    },
    {
      "cell_type": "code",
      "source": [
        "mat=list()\n",
        "for field in df.columns.tolist()[1:]:\n",
        "    mat.append(cal(df[field])) \n",
        "mat=np.array(mat)"
      ],
      "metadata": {
        "id": "HssNAVZee7Ul"
      },
      "execution_count": null,
      "outputs": []
    },
    {
      "cell_type": "markdown",
      "source": [
        "### 2. Sharpe-ratio is based on the variance-covariance matrix of each financial items, so we derived the matrix "
      ],
      "metadata": {
        "id": "zKwIm_zNtGmf"
      }
    },
    {
      "cell_type": "code",
      "source": [
        "cov_mat=np.cov(mat)"
      ],
      "metadata": {
        "id": "kmgYzgj-e92T"
      },
      "execution_count": null,
      "outputs": []
    },
    {
      "cell_type": "code",
      "source": [
        "cov_mat.shape\n",
        "np.fill_diagonal(cov_mat,1)"
      ],
      "metadata": {
        "id": "37UBL9x4gY7p"
      },
      "execution_count": null,
      "outputs": []
    },
    {
      "cell_type": "code",
      "source": [
        "cov_mat.shape"
      ],
      "metadata": {
        "colab": {
          "base_uri": "https://localhost:8080/"
        },
        "id": "45N1jWMhhA4b",
        "outputId": "0efaecb4-c0ab-4049-cee9-148698278cb6"
      },
      "execution_count": null,
      "outputs": [
        {
          "output_type": "execute_result",
          "data": {
            "text/plain": [
              "(12, 12)"
            ]
          },
          "metadata": {},
          "execution_count": 77
        }
      ]
    },
    {
      "cell_type": "markdown",
      "source": [
        "### 3. The next step is calculting expected return based on the annual return data. \n",
        "### In this procedure we need weight vector for each sector"
      ],
      "metadata": {
        "id": "7pgItxtnthnX"
      }
    },
    {
      "cell_type": "code",
      "source": [
        "expected_return=list()\n",
        "for i in range(mat.shape[0]):\n",
        "    expected_return.append(mat[i].mean())\n",
        "exp_return=np.array(expected_return)"
      ],
      "metadata": {
        "id": "3j_ZtGOHhDng"
      },
      "execution_count": null,
      "outputs": []
    },
    {
      "cell_type": "code",
      "source": [
        "exp_return.shape"
      ],
      "metadata": {
        "colab": {
          "base_uri": "https://localhost:8080/"
        },
        "id": "Q67nskM7lllm",
        "outputId": "39651769-bfa0-4508-ff02-978db70c322b"
      },
      "execution_count": null,
      "outputs": [
        {
          "output_type": "execute_result",
          "data": {
            "text/plain": [
              "(12,)"
            ]
          },
          "metadata": {},
          "execution_count": 72
        }
      ]
    },
    {
      "cell_type": "code",
      "source": [
        "# for this tutorial, we set the weight equally\n",
        "weight=np.full((12,),1/12)"
      ],
      "metadata": {
        "id": "r_04rZ0Nlsdy"
      },
      "execution_count": null,
      "outputs": []
    },
    {
      "cell_type": "code",
      "source": [
        "expected_return_value=np.dot(exp_return,weight)\n",
        "expected_return_value"
      ],
      "metadata": {
        "colab": {
          "base_uri": "https://localhost:8080/"
        },
        "id": "zVsvNpKVnVRn",
        "outputId": "7573deb0-5ac8-4285-93f1-0fd2ea41c106"
      },
      "execution_count": null,
      "outputs": [
        {
          "output_type": "execute_result",
          "data": {
            "text/plain": [
              "0.004291824604308733"
            ]
          },
          "metadata": {},
          "execution_count": 88
        }
      ]
    },
    {
      "cell_type": "markdown",
      "source": [
        "### 4. Calculate Sharperatio based on the expected return and var-covar-matirx. "
      ],
      "metadata": {
        "id": "rXf8GUjzuCgE"
      }
    },
    {
      "cell_type": "code",
      "source": [
        "std= np.matmul(np.matmul(weight,cov_mat),weight)"
      ],
      "metadata": {
        "id": "PEpgQw3ioBEV"
      },
      "execution_count": null,
      "outputs": []
    },
    {
      "cell_type": "code",
      "source": [
        "#we set riskfree rate as 0.000005 randomly\n",
        "riskfree=0.00005\n",
        "sharperatio = expected_return_value-riskfree/std"
      ],
      "metadata": {
        "id": "rcS5s6b4oala"
      },
      "execution_count": null,
      "outputs": []
    },
    {
      "cell_type": "code",
      "source": [
        "sharperatio"
      ],
      "metadata": {
        "colab": {
          "base_uri": "https://localhost:8080/"
        },
        "id": "hwjGw6kzrKIK",
        "outputId": "f2f96b02-2786-45aa-ebe2-aef0227960a2"
      },
      "execution_count": null,
      "outputs": [
        {
          "output_type": "execute_result",
          "data": {
            "text/plain": [
              "0.0038761242925207293"
            ]
          },
          "metadata": {},
          "execution_count": 90
        }
      ]
    }
  ]
}